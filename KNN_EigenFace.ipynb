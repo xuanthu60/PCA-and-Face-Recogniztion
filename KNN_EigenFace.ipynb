{
 "cells": [
  {
   "cell_type": "code",
   "execution_count": 2,
   "metadata": {
    "collapsed": true
   },
   "outputs": [],
   "source": [
    "import numpy as np\n",
    "import matplotlib.pyplot as plt\n",
    "from sklearn import neighbors, datasets\n",
    "from sklearn.model_selection import train_test_split\n",
    "from sklearn.metrics import accuracy_score\n",
    "np.random.seed(1)"
   ]
  },
  {
   "cell_type": "code",
   "execution_count": 3,
   "metadata": {},
   "outputs": [],
   "source": [
    "# filename structure\n",
    "path = 'D:/OneDrive/Nam_4_1/ImageProcessing/PCAandRecognization/YALE/unpadded/'\n",
    "ids = range(1, 16)  # 15 persons\n",
    "states = ['centerlight', 'glasses', 'happy', 'leftlight',\n",
    "          'noglasses', 'normal', 'rightlight','sad',\n",
    "          'sleepy', 'surprised', 'wink']\n",
    "prefix = 'subject'\n",
    "surfix = '.pgm'"
   ]
  },
  {
   "cell_type": "code",
   "execution_count": 4,
   "metadata": {},
   "outputs": [],
   "source": [
    "# data dimension\n",
    "h = 116\n",
    "w = 98\n",
    "D = h * w\n",
    "N = len(states) * 15\n",
    "K = 100"
   ]
  },
  {
   "cell_type": "code",
   "execution_count": 5,
   "metadata": {},
   "outputs": [],
   "source": [
    "# collect all data\n",
    "import imageio\n",
    "X = np.zeros((D, N))\n",
    "cnt = 0\n",
    "for person_id in range(1, 16):\n",
    "\tfor state in states:\n",
    "\t\tfn = path + prefix + str(person_id).zfill(2) + '.' +state+surfix\n",
    "\t\tX[:, cnt] = imageio.imread(fn).reshape(D)\n",
    "\t\tcnt += 1"
   ]
  },
  {
   "cell_type": "code",
   "execution_count": 6,
   "metadata": {},
   "outputs": [
    {
     "data": {
      "text/plain": [
       "(11368, 165)"
      ]
     },
     "execution_count": 6,
     "metadata": {},
     "output_type": "execute_result"
    }
   ],
   "source": [
    "X.shape"
   ]
  },
  {
   "cell_type": "code",
   "execution_count": 7,
   "metadata": {},
   "outputs": [
    {
     "data": {
      "text/plain": [
       "PCA(copy=True, iterated_power='auto', n_components=100, random_state=None,\n  svd_solver='auto', tol=0.0, whiten=False)"
      ]
     },
     "execution_count": 7,
     "metadata": {},
     "output_type": "execute_result"
    }
   ],
   "source": [
    "# doing PCA, note that each row is a datapoint\n",
    "from sklearn.decomposition import  PCA\n",
    "pca = PCA(n_components=K)\n",
    "pca.fit(X.T)"
   ]
  },
  {
   "cell_type": "code",
   "execution_count": 8,
   "metadata": {
    "collapsed": true
   },
   "outputs": [
    {
     "data": {
      "text/plain": [
       "(11368, 165)"
      ]
     },
     "execution_count": 8,
     "metadata": {},
     "output_type": "execute_result"
    }
   ],
   "source": [
    "# projection matrix\n",
    "U = pca.components_.T\n"
   ]
  },
  {
   "cell_type": "code",
   "execution_count": 9,
   "metadata": {},
   "outputs": [
    {
     "data": {
      "text/plain": [
       "(11368, 100)"
      ]
     },
     "execution_count": 9,
     "metadata": {},
     "output_type": "execute_result"
    }
   ],
   "source": [
    "U.shape"
   ]
  },
  {
   "cell_type": "code",
   "execution_count": 10,
   "metadata": {},
   "outputs": [],
   "source": [
    "# new data\n",
    "Z = U.T.dot(X)"
   ]
  },
  {
   "cell_type": "code",
   "execution_count": 11,
   "metadata": {},
   "outputs": [
    {
     "data": {
      "text/plain": [
       "(100, 165)"
      ]
     },
     "execution_count": 11,
     "metadata": {},
     "output_type": "execute_result"
    }
   ],
   "source": [
    "Z.shape"
   ]
  },
  {
   "cell_type": "code",
   "execution_count": 14,
   "metadata": {},
   "outputs": [
    {
     "data": {
      "text/plain": [
       "(165, 100)"
      ]
     },
     "execution_count": 14,
     "metadata": {},
     "output_type": "execute_result"
    }
   ],
   "source": [
    "X_PCA = Z.T\n",
    "X_PCA.shape"
   ]
  },
  {
   "cell_type": "code",
   "execution_count": 18,
   "metadata": {
    "collapsed": true
   },
   "outputs": [],
   "source": [
    "# create labels\n",
    "y = []\n",
    "for i in range(15):\n",
    "    for j in range(11):\n",
    "        y.append(i)\n",
    "y = np.asarray(y)"
   ]
  },
  {
   "cell_type": "code",
   "execution_count": 19,
   "metadata": {},
   "outputs": [
    {
     "data": {
      "text/plain": [
       "(165,)"
      ]
     },
     "execution_count": 19,
     "metadata": {},
     "output_type": "execute_result"
    }
   ],
   "source": [
    "y.shape"
   ]
  },
  {
   "cell_type": "code",
   "execution_count": 23,
   "metadata": {},
   "outputs": [],
   "source": [
    "X_train, X_test, y_train, y_test = train_test_split(X_PCA, y, test_size=50)"
   ]
  },
  {
   "cell_type": "code",
   "execution_count": 55,
   "metadata": {},
   "outputs": [],
   "source": [
    "clf = neighbors.KNeighborsClassifier(n_neighbors=1, p=2)\n",
    "clf.fit(X_train, y_train)\n",
    "y_pred = clf.predict(X_test)"
   ]
  },
  {
   "cell_type": "code",
   "execution_count": 56,
   "metadata": {},
   "outputs": [
    {
     "name": "stdout",
     "output_type": "stream",
     "text": [
      "[ 8 14  6  0  3 10  1  4  1  0 10 12  4 12  5  6  3  2 13 13  5 10  9 13\n  3 14 14  1 13 12 10  1  5 10 11  3 10 13 11  8  0  5  5  0  5  5  6  4\n  5 13]\n[ 4 14  6  0  3 10  1  4  1  0 10 12  8 12  7  6  3  2 13  9  5 10  9 13\n  3 14  2  1 13 12 10  9  5 10 11 13 10 13 11  8  0  5  5  0  5  7  6  4\n  5 13]\n"
     ]
    }
   ],
   "source": [
    "print(y_pred)\n",
    "print(y_test)"
   ]
  },
  {
   "cell_type": "code",
   "execution_count": 57,
   "metadata": {},
   "outputs": [
    {
     "name": "stdout",
     "output_type": "stream",
     "text": [
      "Accuracy of 5 NN: 84.00 %\n"
     ]
    }
   ],
   "source": [
    "# evaluation\n",
    "print(\"Accuracy of 1 NN: %.2f %%\" %(100 * accuracy_score(y_test, y_pred)))"
   ]
  },
  {
   "cell_type": "code",
   "execution_count": 54,
   "metadata": {},
   "outputs": [
    {
     "name": "stdout",
     "output_type": "stream",
     "text": [
      "Accuracy of 5 NN: 88.00 %\n"
     ]
    }
   ],
   "source": [
    "clf2 = neighbors.KNeighborsClassifier(n_neighbors=10, p=2, weights='distance')\n",
    "clf2.fit(X_train, y_train)\n",
    "y_pred2 = clf2.predict(X_test)\n",
    "# evaluation\n",
    "print(\"Accuracy of 10 NN: %.2f %%\" %(100 * accuracy_score(y_test, y_pred2)))\n"
   ]
  },
  {
   "cell_type": "code",
   "execution_count": 58,
   "metadata": {},
   "outputs": [
    {
     "name": "stdout",
     "output_type": "stream",
     "text": [
      "[ 5 14  6  0  3 10  1  4  1  0 10 12 11 12  1  6  3  2 13  9  5 11  9 13\n  3 14  2  1 13 12 10  9  5 10 11  3 10 13 11  8  0  5  5  0  5 14  6  4\n  5 13]\n[ 4 14  6  0  3 10  1  4  1  0 10 12  8 12  7  6  3  2 13  9  5 10  9 13\n  3 14  2  1 13 12 10  9  5 10 11 13 10 13 11  8  0  5  5  0  5  7  6  4\n  5 13]\n"
     ]
    }
   ],
   "source": [
    "print(y_pred2)\n",
    "print(y_test)"
   ]
  },
  {
   "cell_type": "code",
   "execution_count": 59,
   "metadata": {},
   "outputs": [
    {
     "name": "stdout",
     "output_type": "stream",
     "text": [
      "[ 7  1  2 13  0  3 14  5  3 13  3  5  5 14  9  8  8 10  8  1 11 12  5  1\n  5  3 13 14  0 10 10  2  6  3  6 13 12  0 13  9 13  8  0  8  2  4  3  4\n  5  5]\n[ 7  1  2 13  0  0 14  5  3 13  3  5  5  6  9  8  8 10  8  1 11 12  5  1\n  5  3  6 14  0 10 10 14 12 13  6 13  6  0 13  9 13  8  0  8  2  4 13  4\n  5  5]\nAccuracy of 1 NN: 84.00 %\n"
     ]
    }
   ],
   "source": [
    "###############################\n",
    "# Does not using PCA\n",
    "X_noPCA = X.T\n",
    "X_train1, X_test1, y_train1, y_test1 = train_test_split(X_noPCA, y, test_size=50)\n",
    "clf1 = neighbors.KNeighborsClassifier(n_neighbors=1, p=2)\n",
    "clf1.fit(X_train1, y_train1)\n",
    "y_pred1 = clf1.predict(X_test1)\n",
    "print(y_pred1)\n",
    "print(y_test1)\n",
    "print(\"Accuracy of 1 NN: %.2f %%\" %(100 * accuracy_score(y_test1, y_pred1)))"
   ]
  },
  {
   "cell_type": "code",
   "execution_count": null,
   "metadata": {},
   "outputs": [],
   "source": []
  },
  {
   "cell_type": "code",
   "execution_count": null,
   "metadata": {},
   "outputs": [],
   "source": []
  },
  {
   "cell_type": "code",
   "execution_count": null,
   "metadata": {},
   "outputs": [],
   "source": []
  }
 ],
 "metadata": {
  "kernelspec": {
   "display_name": "Python 2",
   "language": "python",
   "name": "python2"
  },
  "language_info": {
   "codemirror_mode": {
    "name": "ipython",
    "version": 2
   },
   "file_extension": ".py",
   "mimetype": "text/x-python",
   "name": "python",
   "nbconvert_exporter": "python",
   "pygments_lexer": "ipython2",
   "version": "2.7.6"
  }
 },
 "nbformat": 4,
 "nbformat_minor": 0
}
