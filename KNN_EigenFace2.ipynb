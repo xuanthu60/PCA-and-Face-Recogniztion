{
 "cells": [
  {
   "cell_type": "code",
   "execution_count": 1,
   "metadata": {
    "collapsed": true
   },
   "outputs": [],
   "source": [
    "import numpy as np\n",
    "import matplotlib.pyplot as plt\n",
    "from sklearn import neighbors, datasets\n",
    "from sklearn.model_selection import train_test_split\n",
    "from sklearn.metrics import accuracy_score\n",
    "np.random.seed(1)"
   ]
  },
  {
   "cell_type": "code",
   "execution_count": 2,
   "metadata": {},
   "outputs": [],
   "source": [
    "# filename structure\n",
    "path = 'D:/OneDrive/Nam_4_1/ImageProcessing/PCAandRecognization/YALE/unpadded/'\n",
    "ids = range(1, 16)  # 15 persons\n",
    "states = ['centerlight', 'glasses', 'happy', 'leftlight',\n",
    "          'noglasses', 'normal', 'rightlight','sad',\n",
    "          'sleepy', 'surprised', 'wink']\n",
    "prefix = 'subject'\n",
    "surfix = '.pgm'"
   ]
  },
  {
   "cell_type": "code",
   "execution_count": 3,
   "metadata": {},
   "outputs": [],
   "source": [
    "# data dimension\n",
    "h = 116\n",
    "w = 98\n",
    "D = h * w\n",
    "N = len(states) * 15\n",
    "K = 100"
   ]
  },
  {
   "cell_type": "code",
   "execution_count": 4,
   "metadata": {},
   "outputs": [],
   "source": [
    "# collect all data\n",
    "import imageio\n",
    "# X = np.zeros((D, N))\n",
    "X_train = np.zeros((D, N - 2 * 15))\n",
    "X_test = np.zeros((D, 2 * 15))\n",
    "# cnt = 0\n",
    "a = 0\n",
    "b = 0\n",
    "for person_id in range(1, 16):\n",
    "\tfor i, state in enumerate(states):\n",
    "\t\tfn = path + prefix + str(person_id).zfill(2) + '.' + state + surfix\n",
    "\t\tif i < 2:\n",
    "\t\t\tX_test[:, a] = imageio.imread(fn).reshape(D)\n",
    "\t\t\ta += 1\n",
    "\t\telse:\n",
    "\t\t\tX_train[:, b] = imageio.imread(fn).reshape(D)\n",
    "\t\t\tb += 1\n",
    "\t\t# cnt += 1"
   ]
  },
  {
   "cell_type": "code",
   "execution_count": 5,
   "metadata": {},
   "outputs": [
    {
     "data": {
      "text/plain": [
       "(11368, 135)"
      ]
     },
     "execution_count": 5,
     "metadata": {},
     "output_type": "execute_result"
    }
   ],
   "source": [
    "X_train.shape"
   ]
  },
  {
   "cell_type": "code",
   "execution_count": 6,
   "metadata": {},
   "outputs": [
    {
     "data": {
      "text/plain": [
       "(11368, 30)"
      ]
     },
     "execution_count": 6,
     "metadata": {},
     "output_type": "execute_result"
    }
   ],
   "source": [
    "X_test.shape"
   ]
  },
  {
   "cell_type": "code",
   "execution_count": 7,
   "metadata": {},
   "outputs": [],
   "source": [
    "mean = X_train.mean(axis=1)"
   ]
  },
  {
   "cell_type": "code",
   "execution_count": 8,
   "metadata": {},
   "outputs": [
    {
     "data": {
      "text/plain": [
       "(11368,)"
      ]
     },
     "execution_count": 8,
     "metadata": {},
     "output_type": "execute_result"
    }
   ],
   "source": [
    "mean.shape"
   ]
  },
  {
   "cell_type": "code",
   "execution_count": 9,
   "metadata": {},
   "outputs": [
    {
     "data": {
      "text/plain": [
       "PCA(copy=True, iterated_power='auto', n_components=100, random_state=None,\n  svd_solver='auto', tol=0.0, whiten=False)"
      ]
     },
     "execution_count": 9,
     "metadata": {},
     "output_type": "execute_result"
    }
   ],
   "source": [
    "# doing PCA, note that each row is a datapoint\n",
    "from sklearn.decomposition import PCA\n",
    "pca = PCA(n_components=K)\n",
    "pca.fit(X_train.T)"
   ]
  },
  {
   "cell_type": "code",
   "execution_count": 10,
   "metadata": {
    "collapsed": true
   },
   "outputs": [],
   "source": [
    "# projection matrix\n",
    "U = pca.components_.T"
   ]
  },
  {
   "cell_type": "code",
   "execution_count": 11,
   "metadata": {},
   "outputs": [
    {
     "data": {
      "text/plain": [
       "(11368, 100)"
      ]
     },
     "execution_count": 11,
     "metadata": {},
     "output_type": "execute_result"
    }
   ],
   "source": [
    "U.shape"
   ]
  },
  {
   "cell_type": "code",
   "execution_count": null,
   "metadata": {},
   "outputs": [],
   "source": []
  },
  {
   "cell_type": "code",
   "execution_count": null,
   "metadata": {},
   "outputs": [],
   "source": [
    "# see reconstruction of the first 6 persons\n",
    "for person_id in range(1, 7):\n",
    "\tfor state in ['centerlight']:\n",
    "\t\tfn = path + prefix + str(person_id).zfill(2) + '.' + state + surfix\n",
    "\t\tim = imageio.imread(fn)\n",
    "\t\tplt.axis('off')\n",
    "\t\t#         plt.imshow(im, interpolation='nearest' )\n",
    "\t\tf1 = plt.imshow(im, interpolation='nearest')\n",
    "\t\tf1.axes.get_xaxis().set_visible(False)\n",
    "\t\tf1.axes.get_yaxis().set_visible(False)\n",
    "\t\tplt.gray()\n",
    "\t\tfn = 'ori' + str(person_id).zfill(2) + '.png'\n",
    "\t\tplt.savefig(fn, bbox_inches='tight', pad_inches=0)\n",
    "\t\tplt.show()\n",
    "\t\t# reshape and subtract mean, don't forget \n",
    "\t\tx = im.reshape(D, 1) - pca.mean_.reshape(D, 1)\n",
    "\t\t# encode\n",
    "\t\tz = U.T.dot(x)\n",
    "\t\t#decode\n",
    "\t\tx_tilde = U.dot(z) + pca.mean_.reshape(D, 1)\n",
    "\n",
    "\t\t# reshape to orginal dim\n",
    "\t\tim_tilde = x_tilde.reshape(116, 98)\n",
    "\t\tplt.axis('off')\n",
    "\t\t#         plt.imshow(im_tilde, interpolation='nearest' )\n",
    "\t\tf1 = plt.imshow(im_tilde, interpolation='nearest')\n",
    "\t\tf1.axes.get_xaxis().set_visible(False)\n",
    "\t\tf1.axes.get_yaxis().set_visible(False)\n",
    "\t\tplt.gray()\n",
    "\t\tfn = 'res' + str(person_id).zfill(2) + '.png'\n",
    "\t\tplt.savefig(fn, bbox_inches='tight', pad_inches=0)\n",
    "\t\tplt.show()"
   ]
  },
  {
   "cell_type": "code",
   "execution_count": null,
   "metadata": {},
   "outputs": [],
   "source": []
  },
  {
   "cell_type": "code",
   "execution_count": null,
   "metadata": {},
   "outputs": [],
   "source": []
  },
  {
   "cell_type": "code",
   "execution_count": 12,
   "metadata": {},
   "outputs": [
    {
     "data": {
      "text/plain": [
       "array([33.92592593, 71.31851852, 92.72592593, ..., 74.04444444,\n       40.44444444, 34.06666667])"
      ]
     },
     "execution_count": 12,
     "metadata": {},
     "output_type": "execute_result"
    }
   ],
   "source": [
    "pca.mean_"
   ]
  },
  {
   "cell_type": "code",
   "execution_count": 13,
   "metadata": {},
   "outputs": [
    {
     "data": {
      "text/plain": [
       "array([33.92592593, 71.31851852, 92.72592593, ..., 74.04444444,\n       40.44444444, 34.06666667])"
      ]
     },
     "execution_count": 13,
     "metadata": {},
     "output_type": "execute_result"
    }
   ],
   "source": [
    "mean"
   ]
  },
  {
   "cell_type": "code",
   "execution_count": 14,
   "metadata": {},
   "outputs": [],
   "source": [
    "Mean2 = np.zeros((X_train.shape[0], X_train.shape[1]))\n",
    "for i in range(X_train.shape[1]):\n",
    "    Mean2[:, i] = mean"
   ]
  },
  {
   "cell_type": "code",
   "execution_count": 15,
   "metadata": {},
   "outputs": [],
   "source": [
    "# new data\n",
    "Z = U.T.dot(X_train - Mean2)"
   ]
  },
  {
   "cell_type": "code",
   "execution_count": 16,
   "metadata": {},
   "outputs": [
    {
     "data": {
      "text/plain": [
       "(100, 135)"
      ]
     },
     "execution_count": 16,
     "metadata": {},
     "output_type": "execute_result"
    }
   ],
   "source": [
    "Z.shape"
   ]
  },
  {
   "cell_type": "code",
   "execution_count": 17,
   "metadata": {},
   "outputs": [
    {
     "data": {
      "text/plain": [
       "(135, 100)"
      ]
     },
     "execution_count": 17,
     "metadata": {},
     "output_type": "execute_result"
    }
   ],
   "source": [
    "X_train_PCA = Z.T\n",
    "X_train_PCA.shape"
   ]
  },
  {
   "cell_type": "code",
   "execution_count": 20,
   "metadata": {
    "collapsed": true
   },
   "outputs": [],
   "source": [
    "# create labels\n",
    "y_train = []\n",
    "y_test = []\n",
    "for i in range(15):\n",
    "    for j in range(11):\n",
    "        if j < 2:\n",
    "            y_test.append(i + 1)\n",
    "        else:\n",
    "            y_train.append(i + 1)\n",
    "y_train = np.asarray(y_train)\n",
    "y_test = np.asarray(y_test)"
   ]
  },
  {
   "cell_type": "code",
   "execution_count": 21,
   "metadata": {},
   "outputs": [
    {
     "data": {
      "text/plain": [
       "array([ 1,  1,  1,  1,  1,  1,  1,  1,  1,  2,  2,  2,  2,  2,  2,  2,  2,\n        2,  3,  3,  3,  3,  3,  3,  3,  3,  3,  4,  4,  4,  4,  4,  4,  4,\n        4,  4,  5,  5,  5,  5,  5,  5,  5,  5,  5,  6,  6,  6,  6,  6,  6,\n        6,  6,  6,  7,  7,  7,  7,  7,  7,  7,  7,  7,  8,  8,  8,  8,  8,\n        8,  8,  8,  8,  9,  9,  9,  9,  9,  9,  9,  9,  9, 10, 10, 10, 10,\n       10, 10, 10, 10, 10, 11, 11, 11, 11, 11, 11, 11, 11, 11, 12, 12, 12,\n       12, 12, 12, 12, 12, 12, 13, 13, 13, 13, 13, 13, 13, 13, 13, 14, 14,\n       14, 14, 14, 14, 14, 14, 14, 15, 15, 15, 15, 15, 15, 15, 15, 15])"
      ]
     },
     "execution_count": 21,
     "metadata": {},
     "output_type": "execute_result"
    }
   ],
   "source": [
    "y_train"
   ]
  },
  {
   "cell_type": "code",
   "execution_count": 22,
   "metadata": {},
   "outputs": [
    {
     "data": {
      "text/plain": [
       "array([ 1,  1,  2,  2,  3,  3,  4,  4,  5,  5,  6,  6,  7,  7,  8,  8,  9,\n        9, 10, 10, 11, 11, 12, 12, 13, 13, 14, 14, 15, 15])"
      ]
     },
     "execution_count": 22,
     "metadata": {},
     "output_type": "execute_result"
    }
   ],
   "source": [
    "y_test\n"
   ]
  },
  {
   "cell_type": "code",
   "execution_count": 23,
   "metadata": {},
   "outputs": [],
   "source": [
    "s = np.arange(X_train_PCA.shape[0])"
   ]
  },
  {
   "cell_type": "code",
   "execution_count": 24,
   "metadata": {},
   "outputs": [
    {
     "data": {
      "text/plain": [
       "array([  0,   1,   2,   3,   4,   5,   6,   7,   8,   9,  10,  11,  12,\n        13,  14,  15,  16,  17,  18,  19,  20,  21,  22,  23,  24,  25,\n        26,  27,  28,  29,  30,  31,  32,  33,  34,  35,  36,  37,  38,\n        39,  40,  41,  42,  43,  44,  45,  46,  47,  48,  49,  50,  51,\n        52,  53,  54,  55,  56,  57,  58,  59,  60,  61,  62,  63,  64,\n        65,  66,  67,  68,  69,  70,  71,  72,  73,  74,  75,  76,  77,\n        78,  79,  80,  81,  82,  83,  84,  85,  86,  87,  88,  89,  90,\n        91,  92,  93,  94,  95,  96,  97,  98,  99, 100, 101, 102, 103,\n       104, 105, 106, 107, 108, 109, 110, 111, 112, 113, 114, 115, 116,\n       117, 118, 119, 120, 121, 122, 123, 124, 125, 126, 127, 128, 129,\n       130, 131, 132, 133, 134])"
      ]
     },
     "execution_count": 24,
     "metadata": {},
     "output_type": "execute_result"
    }
   ],
   "source": [
    "s"
   ]
  },
  {
   "cell_type": "code",
   "execution_count": 25,
   "metadata": {},
   "outputs": [
    {
     "data": {
      "text/plain": [
       "array([ 54,   9, 103,  22, 102,  16,   8,  63,  64,  73,  74,  40,  77,\n       125,   3,  48, 114,  25,  34,  95,  30,  97,  68,  14, 110,  70,\n       101,  31, 129,   6,  90, 123,  41, 116,  81, 111,  24,  98,  37,\n       131,  92,  85,  94,  84,  75,  49,  89, 106, 107,  59,  26,  62,\n       126,  96, 115, 108,  87,  35,  72,  38,  23, 130,  12,  52,   5,\n        19, 122,  39,   0,  60,  50, 104,  91, 113,  51,  57,  17,  80,\n        15,  42,  44,  55,  78, 124,   4,  47, 134,  86,  28,  88,  43,\n        56,  45, 120,  11,   1,  65,  71,  79,  69,  53,   2,  33,  67,\n        21, 119,  82,  76, 109,  36,  93,  20,  32, 118, 132, 112,  29,\n        27, 117, 100, 127,  18, 105,  99,  66,  83, 121,   7,  13,  46,\n       133,  58, 128,  61,  10])"
      ]
     },
     "execution_count": 25,
     "metadata": {},
     "output_type": "execute_result"
    }
   ],
   "source": [
    "np.random.shuffle(s)\n",
    "s"
   ]
  },
  {
   "cell_type": "code",
   "execution_count": 26,
   "metadata": {},
   "outputs": [],
   "source": [
    "X_train_PCA = X_train_PCA[s, :]"
   ]
  },
  {
   "cell_type": "code",
   "execution_count": 27,
   "metadata": {},
   "outputs": [],
   "source": [
    "y_train = y_train[s]"
   ]
  },
  {
   "cell_type": "code",
   "execution_count": 28,
   "metadata": {},
   "outputs": [],
   "source": [
    "s2 = np.arange(X_test.shape[1])\n",
    "np.random.shuffle(s2)\n",
    "X_test = X_test[:, s2]\n",
    "y_test = y_test[s2]"
   ]
  },
  {
   "cell_type": "code",
   "execution_count": 29,
   "metadata": {},
   "outputs": [
    {
     "data": {
      "text/plain": [
       "array([23, 27,  3, 14, 20,  5, 12, 24, 25,  8, 18, 29,  2, 19, 16, 13, 22,\n        6,  9, 28, 10, 21, 11,  1, 26,  7, 17,  4, 15,  0])"
      ]
     },
     "execution_count": 29,
     "metadata": {},
     "output_type": "execute_result"
    }
   ],
   "source": [
    "s2"
   ]
  },
  {
   "cell_type": "code",
   "execution_count": 30,
   "metadata": {},
   "outputs": [
    {
     "data": {
      "text/plain": [
       "(11368, 30)"
      ]
     },
     "execution_count": 30,
     "metadata": {},
     "output_type": "execute_result"
    }
   ],
   "source": [
    "X_test.shape"
   ]
  },
  {
   "cell_type": "code",
   "execution_count": 31,
   "metadata": {},
   "outputs": [],
   "source": [
    "Mean = np.zeros((X_test.shape[0], X_test.shape[1]))\n",
    "for i in range(X_test.shape[1]):\n",
    "    Mean[:, i] = mean"
   ]
  },
  {
   "cell_type": "code",
   "execution_count": 32,
   "metadata": {},
   "outputs": [
    {
     "data": {
      "text/plain": [
       "(11368, 30)"
      ]
     },
     "execution_count": 32,
     "metadata": {},
     "output_type": "execute_result"
    }
   ],
   "source": [
    "Mean.shape"
   ]
  },
  {
   "cell_type": "code",
   "execution_count": 33,
   "metadata": {},
   "outputs": [
    {
     "data": {
      "text/plain": [
       "(11368, 30)"
      ]
     },
     "execution_count": 33,
     "metadata": {},
     "output_type": "execute_result"
    }
   ],
   "source": [
    "X_test.shape"
   ]
  },
  {
   "cell_type": "code",
   "execution_count": 84,
   "metadata": {
    "collapsed": true
   },
   "outputs": [
    {
     "data": {
      "text/plain": [
       "(100, 30)"
      ]
     },
     "execution_count": 84,
     "metadata": {},
     "output_type": "execute_result"
    }
   ],
   "source": [
    "(U.T.dot(X_test - Mean)).shape"
   ]
  },
  {
   "cell_type": "code",
   "execution_count": 34,
   "metadata": {},
   "outputs": [],
   "source": [
    "clf = neighbors.KNeighborsClassifier(n_neighbors=1, p=2)\n",
    "clf.fit(X_train_PCA, y_train)\n",
    "y_pred = clf.predict((U.T.dot(X_test - Mean)).T)"
   ]
  },
  {
   "cell_type": "code",
   "execution_count": 35,
   "metadata": {},
   "outputs": [
    {
     "name": "stdout",
     "output_type": "stream",
     "text": [
      "[12 14  2  8 11  3 14 13 13  5 10 15  2 10  9  7 12  4  5 15  6 11  6  1\n 14  4  9  3  8  1]\n[12 14  2  8 11  3  7 13 13  5 10 15  2 10  9  7 12  4  5 15  6 11  6  1\n 14  4  9  3  8  1]\n"
     ]
    }
   ],
   "source": [
    "print(y_pred)\n",
    "print(y_test)"
   ]
  },
  {
   "cell_type": "code",
   "execution_count": 36,
   "metadata": {},
   "outputs": [
    {
     "name": "stdout",
     "output_type": "stream",
     "text": [
      "Accuracy of 1 NN: 96.67 %\n"
     ]
    }
   ],
   "source": [
    "# evaluation\n",
    "print(\"Accuracy of 1 NN: %.2f %%\" %(100 * accuracy_score(y_test, y_pred)))"
   ]
  },
  {
   "cell_type": "code",
   "execution_count": 88,
   "metadata": {},
   "outputs": [
    {
     "name": "stdout",
     "output_type": "stream",
     "text": [
      "Accuracy of 10 NN: 90.00 %\n"
     ]
    }
   ],
   "source": [
    "clf2 = neighbors.KNeighborsClassifier(n_neighbors=9, p=2, weights='distance')\n",
    "clf2.fit(X_train_PCA, y_train)\n",
    "y_pred2 = clf2.predict((U.T.dot(X_test - Mean)).T)\n",
    "# evaluation\n",
    "print(\"Accuracy of 10 NN: %.2f %%\" %(100 * accuracy_score(y_test, y_pred2)))\n"
   ]
  },
  {
   "cell_type": "code",
   "execution_count": 89,
   "metadata": {},
   "outputs": [
    {
     "name": "stdout",
     "output_type": "stream",
     "text": [
      "[ 1  1  2  2  3  3  4  4  5  5  6  6 14  7  4 15  9  9 10 10 11 11 12 12\n 13 13 14 14 15 15]\n[ 1  1  2  2  3  3  4  4  5  5  6  6  7  7  8  8  9  9 10 10 11 11 12 12\n 13 13 14 14 15 15]\n"
     ]
    }
   ],
   "source": [
    "print(y_pred2)\n",
    "print(y_test)"
   ]
  },
  {
   "cell_type": "code",
   "execution_count": 120,
   "metadata": {},
   "outputs": [
    {
     "name": "stdout",
     "output_type": "stream",
     "text": [
      "(11368, 135)\n(135,)\n(135, 100)\n"
     ]
    }
   ],
   "source": [
    "print(X_train.shape)\n",
    "print(y_train.shape)\n",
    "print(X_train_PCA.shape)"
   ]
  },
  {
   "cell_type": "code",
   "execution_count": 38,
   "metadata": {
    "collapsed": false
   },
   "outputs": [
    {
     "name": "stdout",
     "output_type": "stream",
     "text": [
      "[ 1 12  1  3  8  4 12  3  3  5 15  7  9  4  5 13  8 13 15  7  7  6 11  1\n  4  1  7 13 14  1]\n[12 14  2  8 11  3  7 13 13  5 10 15  2 10  9  7 12  4  5 15  6 11  6  1\n 14  4  9  3  8  1]\nAccuracy of 1 NN: 10.00 %\n"
     ]
    }
   ],
   "source": [
    "###############################\n",
    "# Without using PCA\n",
    "\n",
    "clf_noPCA = neighbors.KNeighborsClassifier(n_neighbors=1, p=2)\n",
    "clf_noPCA.fit(X_train.T, y_train)\n",
    "y_pred_noPCA = clf_noPCA.predict(X_test.T)\n",
    "print(y_pred_noPCA)\n",
    "print(y_test)\n",
    "print(\"Accuracy of 1 NN: %.2f %%\" %(100 * accuracy_score(y_pred_noPCA, y_test)))"
   ]
  },
  {
   "cell_type": "code",
   "execution_count": null,
   "metadata": {},
   "outputs": [],
   "source": []
  },
  {
   "cell_type": "code",
   "execution_count": null,
   "metadata": {},
   "outputs": [],
   "source": []
  },
  {
   "cell_type": "code",
   "execution_count": null,
   "metadata": {},
   "outputs": [],
   "source": []
  }
 ],
 "metadata": {
  "kernelspec": {
   "display_name": "Python 2",
   "language": "python",
   "name": "python2"
  },
  "language_info": {
   "codemirror_mode": {
    "name": "ipython",
    "version": 2
   },
   "file_extension": ".py",
   "mimetype": "text/x-python",
   "name": "python",
   "nbconvert_exporter": "python",
   "pygments_lexer": "ipython2",
   "version": "2.7.6"
  }
 },
 "nbformat": 4,
 "nbformat_minor": 0
}
